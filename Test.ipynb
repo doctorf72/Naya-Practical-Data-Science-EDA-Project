{
 "cells": [
  {
   "cell_type": "code",
   "execution_count": null,
   "id": "d374c7f2",
   "metadata": {},
   "outputs": [],
   "source": [
    "import pandas as pd"
   ]
  },
  {
   "cell_type": "code",
   "execution_count": null,
   "id": "876b1182",
   "metadata": {},
   "outputs": [],
   "source": [
    "df = pd.read_csv('country_vaccinations.csv', parse_dates=['date'])\n",
    "df.head()"
   ]
  },
  {
   "cell_type": "code",
   "execution_count": null,
   "id": "511ec316",
   "metadata": {},
   "outputs": [],
   "source": [
    "df.info()"
   ]
  },
  {
   "cell_type": "code",
   "execution_count": null,
   "id": "32d6d0e4",
   "metadata": {},
   "outputs": [],
   "source": [
    "df.groupby(['country'])['total_vaccinations','people_vaccinated','daily_vaccinations'].mean()"
   ]
  },
  {
   "cell_type": "code",
   "execution_count": null,
   "id": "ad6158c7",
   "metadata": {},
   "outputs": [],
   "source": []
  },
  {
   "cell_type": "code",
   "execution_count": null,
   "id": "4ff5ef46",
   "metadata": {},
   "outputs": [],
   "source": [
    "df.week_of_year = df.date.dt.year.to_string+df.date.dt.weekofyear.to_string\n",
    "df.week_of_year"
   ]
  },
  {
   "cell_type": "code",
   "execution_count": null,
   "id": "79151b66",
   "metadata": {},
   "outputs": [],
   "source": [
    "df.Combined_Key.value_counts()"
   ]
  },
  {
   "cell_type": "code",
   "execution_count": null,
   "id": "462fb21d",
   "metadata": {},
   "outputs": [],
   "source": []
  }
 ],
 "metadata": {
  "kernelspec": {
   "display_name": "Python 3 (ipykernel)",
   "language": "python",
   "name": "python3"
  },
  "language_info": {
   "codemirror_mode": {
    "name": "ipython",
    "version": 3
   },
   "file_extension": ".py",
   "mimetype": "text/x-python",
   "name": "python",
   "nbconvert_exporter": "python",
   "pygments_lexer": "ipython3",
   "version": "3.9.7"
  }
 },
 "nbformat": 4,
 "nbformat_minor": 5
}
